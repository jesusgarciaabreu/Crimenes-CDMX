{
 "cells": [
  {
   "cell_type": "code",
   "execution_count": 8,
   "id": "b696053b",
   "metadata": {},
   "outputs": [
    {
     "name": "stderr",
     "output_type": "stream",
     "text": [
      "100%|██████████| 17/17 [00:00<00:00, 30.61it/s]<00:01, 11.28it/s, Describe variable: EDAD_Rango]\n",
      "Summarize dataset: 100%|██████████| 42/42 [00:03<00:00, 10.78it/s, Completed]                   \n",
      "Generate report structure: 100%|██████████| 1/1 [00:04<00:00,  4.76s/it]\n",
      "Render HTML: 100%|██████████| 1/1 [00:01<00:00,  1.41s/it]\n",
      "Export report to file: 100%|██████████| 1/1 [00:00<00:00, 99.90it/s]\n"
     ]
    }
   ],
   "source": [
    "import pandas as pd\n",
    "from ydata_profiling import ProfileReport\n",
    "\n",
    "# Cargar un DataFrame\n",
    "df = pd.read_csv(\"data/delitos_cdmx_limpio.csv\")\n",
    "\n",
    "# Generar el informe\n",
    "profile = ProfileReport(df, title=\"Reporte EDA\", explorative=True)\n",
    "\n",
    "# Guardar a archivo HTML\n",
    "profile.to_file(\"reporte_eda.html\")"
   ]
  }
 ],
 "metadata": {
  "kernelspec": {
   "display_name": "venv",
   "language": "python",
   "name": "python3"
  },
  "language_info": {
   "codemirror_mode": {
    "name": "ipython",
    "version": 3
   },
   "file_extension": ".py",
   "mimetype": "text/x-python",
   "name": "python",
   "nbconvert_exporter": "python",
   "pygments_lexer": "ipython3",
   "version": "3.12.3"
  }
 },
 "nbformat": 4,
 "nbformat_minor": 5
}
